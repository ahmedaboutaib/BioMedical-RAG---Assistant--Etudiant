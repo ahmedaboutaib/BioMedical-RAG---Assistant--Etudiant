{
 "cells": [
  {
   "cell_type": "markdown",
   "metadata": {},
   "source": [
    "\n",
    "# Configurer Qdrant\n",
    "docker pull qdrant/qdrant\n",
    "docker run -p 6333:6333 --rm qdrant/qdrant\n",
    "\n",
    "\n",
    "# Créer la base de données vectorielle\n",
    "run create_vector_db.ipynb\n",
    "\n",
    "# Lancer l'application\n",
    "uvicorn app:app --reload"
   ]
  }
 ],
 "metadata": {
  "language_info": {
   "name": "python"
  }
 },
 "nbformat": 4,
 "nbformat_minor": 2
}
